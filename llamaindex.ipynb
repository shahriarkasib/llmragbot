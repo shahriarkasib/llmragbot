{
 "cells": [
  {
   "cell_type": "code",
   "execution_count": 2,
   "metadata": {},
   "outputs": [],
   "source": [
    "from flask import Flask, request, jsonify, render_template\n",
    "import pandas as pd\n",
    "import pandas_gbq\n",
    "import openai\n",
    "from collections import deque\n",
    "\n"
   ]
  },
  {
   "cell_type": "code",
   "execution_count": 3,
   "metadata": {},
   "outputs": [],
   "source": [
    "import nest_asyncio\n",
    "nest_asyncio.apply()"
   ]
  },
  {
   "cell_type": "code",
   "execution_count": 1,
   "metadata": {},
   "outputs": [
    {
     "name": "stderr",
     "output_type": "stream",
     "text": [
      "c:\\Users\\User\\anaconda3\\lib\\site-packages\\scipy\\__init__.py:146: UserWarning: A NumPy version >=1.16.5 and <1.23.0 is required for this version of SciPy (detected version 1.26.2\n",
      "  warnings.warn(f\"A NumPy version >={np_minversion} and <{np_maxversion}\"\n"
     ]
    }
   ],
   "source": [
    "from llama_index.core import SimpleDirectoryReader\n",
    "documents = SimpleDirectoryReader(input_dir='resort data', input_files=['resort data/Accommodation at Serenity Bay Resort.pdf']).load_data()\n"
   ]
  },
  {
   "cell_type": "code",
   "execution_count": 8,
   "metadata": {},
   "outputs": [
    {
     "data": {
      "text/plain": [
       "[Document(id_='ecd1f141-d961-4c5b-8e49-0f26bdcd7bbe', embedding=None, metadata={'page_label': '1', 'file_name': 'Accommodation at Serenity Bay Resort.pdf', 'file_path': 'resort data\\\\Accommodation at Serenity Bay Resort.pdf', 'file_type': 'application/pdf', 'file_size': 61837, 'creation_date': '2024-06-08', 'last_modified_date': '2024-06-08'}, excluded_embed_metadata_keys=['file_name', 'file_type', 'file_size', 'creation_date', 'last_modified_date', 'last_accessed_date'], excluded_llm_metadata_keys=['file_name', 'file_type', 'file_size', 'creation_date', 'last_modified_date', 'last_accessed_date'], relationships={}, text=\"Accommodation\\nat\\nSerenity\\nBay\\nResort\\n1.\\nRoom\\nTypes\\nand\\nDescriptions\\n1.1.\\nGarden\\nView\\nRoom\\n●\\nDescription:\\nCozy\\nand\\ncomfortable\\nrooms\\nwith\\na\\nbeautiful\\nview\\nof\\nthe\\nresort's\\nlush\\ngardens.\\n●\\nAmenities:\\nKing-sized\\nbed,\\nprivate\\nbalcony,\\nair\\nconditioning,\\nfree\\nWi-Fi,\\nflat-screen\\nTV,\\nminibar,\\nand\\nen-suite\\nbathroom\\nwith\\nrain\\nshower.\\n●\\nSize:\\n35\\nsqm\\n1.2.\\nOcean\\nView\\nRoom\\n●\\nDescription:\\nElegant\\nrooms\\noffering\\nstunning\\nviews\\nof\\nthe\\nocean,\\nperfect\\nfor\\na\\nrelaxing\\nstay.\\n●\\nAmenities:\\nKing-sized\\nbed,\\nprivate\\nbalcony,\\nair\\nconditioning,\\nfree\\nWi-Fi,\\nflat-screen\\nTV,\\nminibar,\\nand\\nen-suite\\nbathroom\\nwith\\nrain\\nshower.\\n●\\nSize:\\n40\\nsqm\\n1.3.\\nBeachfront\\nVilla\\n●\\nDescription:\\nSpacious\\nvillas\\nlocated\\ndirectly\\non\\nthe\\nbeach,\\noffering\\ndirect\\naccess\\nto\\nthe\\nsandy\\nshores.\\n●\\nAmenities:\\nKing-sized\\nbed,\\nprivate\\nterrace,\\nair\\nconditioning,\\nfree\\nWi-Fi,\\nflat-screen\\nTV,\\nminibar,\\nen-suite\\nbathroom\\nwith\\nrain\\nshower\\nand\\nbathtub,\\nand\\na\\nprivate\\nplunge\\npool.\\n●\\nSize:\\n60\\nsqm\\n1.4.\\nOverwater\\nBungalow\\n●\\nDescription:\\nLuxurious\\nbungalows\\nsituated\\nover\\nthe\\nwater,\\nproviding\\nbreathtaking\\nviews\\nand\\ndirect\\naccess\\nto\\nthe\\nlagoon.\\n●\\nAmenities:\\nKing-sized\\nbed,\\nprivate\\ndeck,\\nair\\nconditioning,\\nfree\\nWi-Fi,\\nflat-screen\\nTV,\\nminibar,\\nen-suite\\nbathroom\\nwith\\nrain\\nshower\\nand\\nbathtub,\\nand\\na\\nglass\\nfloor\\npanel\\nfor\\nmarine\\nlife\\nviewing.\\n●\\nSize:\\n70\\nsqm\\n2.\\nRoom\\nRates\\nand\\nPackages\\n2.1.\\nGarden\\nView\\nRoom\\n●\\nStandard\\nRate:\\n$200\\nper\\nnight\\n●\\nSeasonal\\nRate:\\n$250\\nper\\nnight\\n(peak\\nseason)\\n●\\nPackage:\\nStay\\n7\\nnights,\\npay\\nfor\\n6\\n(includes\\ndaily\\nbreakfast)\", start_char_idx=None, end_char_idx=None, text_template='{metadata_str}\\n\\n{content}', metadata_template='{key}: {value}', metadata_seperator='\\n'),\n",
       " Document(id_='f00000c2-07c7-4203-8fa1-a24fec9072a6', embedding=None, metadata={'page_label': '2', 'file_name': 'Accommodation at Serenity Bay Resort.pdf', 'file_path': 'resort data\\\\Accommodation at Serenity Bay Resort.pdf', 'file_type': 'application/pdf', 'file_size': 61837, 'creation_date': '2024-06-08', 'last_modified_date': '2024-06-08'}, excluded_embed_metadata_keys=['file_name', 'file_type', 'file_size', 'creation_date', 'last_modified_date', 'last_accessed_date'], excluded_llm_metadata_keys=['file_name', 'file_type', 'file_size', 'creation_date', 'last_modified_date', 'last_accessed_date'], relationships={}, text='2.2.\\nOcean\\nView\\nRoom\\n●\\nStandard\\nRate:\\n$250\\nper\\nnight\\n●\\nSeasonal\\nRate:\\n$300\\nper\\nnight\\n(peak\\nseason)\\n●\\nPackage:\\nRomantic\\nGetaway\\nPackage\\n-\\n$280\\nper\\nnight\\n(includes\\ndaily\\nbreakfast\\nand\\na\\nromantic\\ndinner)\\n2.3.\\nBeachfront\\nVilla\\n●\\nStandard\\nRate:\\n$400\\nper\\nnight\\n●\\nSeasonal\\nRate:\\n$450\\nper\\nnight\\n(peak\\nseason)\\n●\\nPackage:\\nFamily\\nFun\\nPackage\\n-\\n$420\\nper\\nnight\\n(includes\\ndaily\\nbreakfast\\nand\\na\\nfamily\\nexcursion)\\n2.4.\\nOverwater\\nBungalow\\n●\\nStandard\\nRate:\\n$600\\nper\\nnight\\n●\\nSeasonal\\nRate:\\n$700\\nper\\nnight\\n(peak\\nseason)\\n●\\nPackage:\\nHoneymoon\\nPackage\\n-\\n$650\\nper\\nnight\\n(includes\\ndaily\\nbreakfast,\\na\\nromantic\\ndinner,\\nand\\na\\nspa\\ntreatment\\nfor\\ntwo)\\n3.\\nBooking\\nand\\nReservation\\nPolicies\\n3.1.\\nReservation\\nPolicy\\n●\\nReservations\\ncan\\nbe\\nmade\\nthrough\\nour\\nwebsite,\\nby\\nphone,\\nor\\nvia\\nemail.\\n●\\nA\\nvalid\\ncredit\\ncard\\nis\\nrequired\\nto\\nsecure\\nthe\\nbooking.\\n●\\nA\\ndeposit\\nof\\n30%\\nof\\nthe\\ntotal\\nstay\\ncost\\nis\\nrequired\\nat\\nthe\\ntime\\nof\\nbooking.\\n3.2.\\nCancellation\\nPolicy\\n●\\nCancellations\\nmade\\nmore\\nthan\\n14\\ndays\\nbefore\\narrival\\nwill\\nreceive\\na\\nfull\\nrefund.\\n●\\nCancellations\\nmade\\nbetween\\n7\\nand\\n14\\ndays\\nbefore\\narrival\\nwill\\nforfeit\\nthe\\ndeposit.\\n●\\nCancellations\\nmade\\nless\\nthan\\n7\\ndays\\nbefore\\narrival\\nor\\nno-shows\\nwill\\nbe\\ncharged\\nthe\\nfull\\namount\\nof\\nthe\\nstay.\\n3.3.\\nModification\\nPolicy\\n●\\nReservations\\ncan\\nbe\\nmodified\\nup\\nto\\n7\\ndays\\nbefore\\narrival,\\nsubject\\nto\\navailability\\nand\\nany\\nrate\\ndifferences.\\n●\\nModifications\\nwithin\\n7\\ndays\\nof\\narrival\\nmay\\nincur\\nadditional\\ncharges.\\n4.\\nCheck-in\\nand\\nCheck-out\\nProcedures\\n4.1.\\nCheck-in', start_char_idx=None, end_char_idx=None, text_template='{metadata_str}\\n\\n{content}', metadata_template='{key}: {value}', metadata_seperator='\\n'),\n",
       " Document(id_='6927c637-aef1-42ef-9a61-6ed7ee4756d8', embedding=None, metadata={'page_label': '3', 'file_name': 'Accommodation at Serenity Bay Resort.pdf', 'file_path': 'resort data\\\\Accommodation at Serenity Bay Resort.pdf', 'file_type': 'application/pdf', 'file_size': 61837, 'creation_date': '2024-06-08', 'last_modified_date': '2024-06-08'}, excluded_embed_metadata_keys=['file_name', 'file_type', 'file_size', 'creation_date', 'last_modified_date', 'last_accessed_date'], excluded_llm_metadata_keys=['file_name', 'file_type', 'file_size', 'creation_date', 'last_modified_date', 'last_accessed_date'], relationships={}, text='●\\nTime:\\n2:00\\nPM\\n●\\nProcedure:\\nGuests\\nare\\ngreeted\\nwith\\na\\nwelcome\\ndrink\\nupon\\narrival\\nand\\nassisted\\nwith\\ncheck-in\\nat\\nthe\\nreception\\ndesk.\\nLuggage\\nassistance\\nis\\navailable.\\n4.2.\\nCheck-out\\n●\\nTime:\\n11:00\\nAM\\n●\\nProcedure:\\nGuests\\nare\\nrequested\\nto\\nsettle\\ntheir\\nbills\\nat\\nthe\\nreception\\ndesk.\\nExpress\\ncheck-out\\noptions\\nare\\navailable\\nfor\\nguests\\nwith\\nearly\\ndepartures.\\n5.\\nAdditional\\nInformation\\n●\\nEarly\\nCheck-in/Late\\nCheck-out:\\nSubject\\nto\\navailability\\nand\\nmay\\nincur\\nadditional\\ncharges.\\n●\\nPayment\\nMethods:\\nWe\\naccept\\nall\\nmajor\\ncredit\\ncards,\\ndebit\\ncards,\\nand\\ncash\\npayments.\\n●\\nSpecial\\nRequests:\\nPlease\\ninform\\nus\\nof\\nany\\nspecial\\nrequests\\nor\\nrequirements\\nat\\nthe\\ntime\\nof\\nbooking,\\nand\\nwe\\nwill\\ndo\\nour\\nbest\\nto\\naccommodate\\nthem.', start_char_idx=None, end_char_idx=None, text_template='{metadata_str}\\n\\n{content}', metadata_template='{key}: {value}', metadata_seperator='\\n')]"
      ]
     },
     "execution_count": 8,
     "metadata": {},
     "output_type": "execute_result"
    }
   ],
   "source": [
    "documents"
   ]
  },
  {
   "cell_type": "code",
   "execution_count": 4,
   "metadata": {},
   "outputs": [],
   "source": [
    "from llama_index.core.node_parser import SentenceSplitter\n",
    "splitter = SentenceSplitter(chunk_size=1024)\n",
    "nodes = splitter.get_nodes_from_documents(documents)"
   ]
  },
  {
   "cell_type": "code",
   "execution_count": 5,
   "metadata": {},
   "outputs": [],
   "source": [
    "from llama_index.core import Settings\n",
    "from llama_index.llms.openai import OpenAI\n",
    "from llama_index.embeddings.openai import OpenAIEmbedding\n",
    "\n",
    "\n",
    "Settings.llm = OpenAI(model = \"gpt-3.5-turbo\")\n",
    "Settings.embed_model = OpenAIEmbedding(model = \"text-embedding-ada-002\")"
   ]
  },
  {
   "cell_type": "code",
   "execution_count": 6,
   "metadata": {},
   "outputs": [],
   "source": [
    "from llama_index.core import SummaryIndex, VectorStoreIndex\n",
    "\n",
    "summary_index = SummaryIndex(nodes)\n",
    "vector_index = VectorStoreIndex(nodes)"
   ]
  },
  {
   "cell_type": "code",
   "execution_count": 9,
   "metadata": {},
   "outputs": [],
   "source": [
    "summary_query_engine = summary_index.as_query_engine(response_mode = \"tree_summarize\", use_asynch = True)\n",
    "vector_query_engine = vector_index.as_query_engine()"
   ]
  },
  {
   "cell_type": "code",
   "execution_count": 12,
   "metadata": {},
   "outputs": [],
   "source": [
    "from llama_index.core.tools import QueryEngineTool\n",
    "summary_tool = QueryEngineTool.from_defaults(\n",
    "            query_engine = summary_query_engine, \n",
    "            description=\"Useful for retrieving summary of the documents\"\n",
    "            )\n",
    "vector_tool = QueryEngineTool.from_defaults(\n",
    "            query_engine = vector_query_engine, \n",
    "            description=\"Useful for retrieving specific context from the documents\"\n",
    "            )"
   ]
  },
  {
   "cell_type": "code",
   "execution_count": 13,
   "metadata": {},
   "outputs": [],
   "source": [
    "from llama_index.core.query_engine import RouterQueryEngine\n",
    "from llama_index.core.selectors import LLMSingleSelector\n",
    "\n",
    "query_engine = RouterQueryEngine(selector=LLMSingleSelector.from_defaults(),\n",
    "                  query_engine_tools=[summary_tool,vector_tool],\n",
    "                  verbose=True\n",
    "                  )"
   ]
  },
  {
   "cell_type": "code",
   "execution_count": 17,
   "metadata": {},
   "outputs": [
    {
     "name": "stdout",
     "output_type": "stream",
     "text": [
      "\u001b[1;3;38;5;200mSelecting query engine 0: The summary of the document is a concise overview of the main points and information contained within the document, making it useful for retrieving the summary of the documents..\n",
      "\u001b[0mThe document provides detailed information about the accommodation options available at Serenity Bay Resort, including room types, descriptions, amenities, sizes, rates, and packages. It also outlines the booking and reservation policies, cancellation and modification policies, check-in and check-out procedures, as well as additional information such as payment methods, special requests, and early check-in/late check-out options.\n"
     ]
    }
   ],
   "source": [
    "response = query_engine.query(\"What is the summary of the document\")\n",
    "print(response)"
   ]
  },
  {
   "cell_type": "code",
   "execution_count": 18,
   "metadata": {},
   "outputs": [
    {
     "name": "stdout",
     "output_type": "stream",
     "text": [
      "3\n"
     ]
    }
   ],
   "source": [
    "print(len(response.source_nodes))"
   ]
  },
  {
   "cell_type": "code",
   "execution_count": null,
   "metadata": {},
   "outputs": [],
   "source": []
  }
 ],
 "metadata": {
  "kernelspec": {
   "display_name": "base",
   "language": "python",
   "name": "python3"
  },
  "language_info": {
   "codemirror_mode": {
    "name": "ipython",
    "version": 3
   },
   "file_extension": ".py",
   "mimetype": "text/x-python",
   "name": "python",
   "nbconvert_exporter": "python",
   "pygments_lexer": "ipython3",
   "version": "3.9.12"
  }
 },
 "nbformat": 4,
 "nbformat_minor": 2
}
